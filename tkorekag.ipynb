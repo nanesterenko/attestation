{
 "cells": [
  {
   "cell_type": "markdown",
   "metadata": {},
   "source": [
    "# Задание\n",
    "\n",
    "\n",
    "Вы проектируете аггрегатор цен на корейскую косметику - \"k-katalog\". Ваша задача - сделать прототип бэкэнда сайта, который смотрит на другие сайты с косметикой и показывает пользователю разницу цен на аналогичные товары. В каестве первых трёх \"доноров\" цен были выбраны три сайта - luckycosmetic, mykoreashops, holyyskin. В дальнейшем сайтов - источников цен может стать больше. Предполагается что Ваш сайт будет брать (скрапить/парсить) данные с этих сайтов и выводить на своей странице с указанием всех цен. Требуется при выборе пользователем товара на сайте выводить все цены и места где такой же товар можно купить.\n",
    "\n",
    "На первом этапе требуется только прототип системы.\n",
    "\n",
    "**_Задача - спроектировать систему классами. При выборе определённого шаблона проектирования объяснять выбор._**"
   ]
  },
  {
   "cell_type": "markdown",
   "metadata": {},
   "source": [
    "# Рекомендации"
   ]
  },
  {
   "cell_type": "markdown",
   "metadata": {},
   "source": [
    "# Примеры"
   ]
  },
  {
   "cell_type": "markdown",
   "metadata": {},
   "source": [
    "# Проверка качества\n",
    "`flake8 --max-line-length=120`"
   ]
  }
 ],
 "metadata": {
  "kernelspec": {
   "display_name": "Python 3 (ipykernel)",
   "language": "python",
   "name": "python3"
  },
  "language_info": {
   "codemirror_mode": {
    "name": "ipython",
    "version": 3
   },
   "file_extension": ".py",
   "mimetype": "text/x-python",
   "name": "python",
   "nbconvert_exporter": "python",
   "pygments_lexer": "ipython3",
   "version": "3.9.7"
  }
 },
 "nbformat": 4,
 "nbformat_minor": 4
}
